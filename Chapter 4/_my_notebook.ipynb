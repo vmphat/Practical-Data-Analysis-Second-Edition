{
 "cells": [
  {
   "cell_type": "code",
   "execution_count": 1,
   "metadata": {},
   "outputs": [],
   "source": [
    "import os\n",
    "import csv\n",
    "from typing import List, Dict, Tuple"
   ]
  },
  {
   "cell_type": "markdown",
   "metadata": {},
   "source": [
    "## Process Spam files"
   ]
  },
  {
   "cell_type": "code",
   "execution_count": 2,
   "metadata": {},
   "outputs": [
    {
     "name": "stdout",
     "output_type": "stream",
     "text": [
      "Number of spam files: 1397\n"
     ]
    }
   ],
   "source": [
    "files = os.listdir(\"./data/spam\")\n",
    "print(f\"Number of spam files: {len(files)}\")"
   ]
  },
  {
   "cell_type": "code",
   "execution_count": 3,
   "metadata": {},
   "outputs": [],
   "source": [
    "with open(\"SubjectsSpam.out\", \"w\") as out:\n",
    "    category = \"spam\"\n",
    "    \n",
    "    for file in files:\n",
    "        with open(f\"./data/{category}/{file}\", errors=\"ignore\") as f:\n",
    "            lines = f.readlines()\n",
    "            for line in lines:\n",
    "                if line.startswith(\"Subject:\"):\n",
    "                    line = line.replace(\",\", \"\")\n",
    "                    out.write(f\"{line[8:].strip()},{category}\\n\")\n",
    "                    break"
   ]
  },
  {
   "cell_type": "markdown",
   "metadata": {},
   "source": [
    "## Process Not Spam files"
   ]
  },
  {
   "cell_type": "code",
   "execution_count": 4,
   "metadata": {},
   "outputs": [
    {
     "name": "stdout",
     "output_type": "stream",
     "text": [
      "Number of easy_ham files: 2551\n"
     ]
    }
   ],
   "source": [
    "files = os.listdir(\"./data/easy_ham\")\n",
    "print(f\"Number of easy_ham files: {len(files)}\")"
   ]
  },
  {
   "cell_type": "code",
   "execution_count": 5,
   "metadata": {},
   "outputs": [],
   "source": [
    "with open(\"SubjectsHam.out\", \"w\") as out:\n",
    "    category = \"easy_ham\"\n",
    "    \n",
    "    for file in files:\n",
    "        with open(f\"./data/{category}/{file}\", errors=\"ignore\") as f:\n",
    "            lines = f.readlines()\n",
    "            for line in lines:\n",
    "                if line.startswith(\"Subject:\"):\n",
    "                    line = line.replace(\",\", \"\")\n",
    "                    out.write(f\"{line[8:].strip()},nospam\\n\")\n",
    "                    break"
   ]
  },
  {
   "cell_type": "markdown",
   "metadata": {},
   "source": [
    "## Naive Bayes Algorithm"
   ]
  },
  {
   "cell_type": "markdown",
   "metadata": {},
   "source": [
    "Use the function `list_words()` to get a list of unique words with more than three characters in lower case:"
   ]
  },
  {
   "cell_type": "code",
   "execution_count": 6,
   "metadata": {},
   "outputs": [],
   "source": [
    "def list_words(text: str) -> List[str]:\n",
    "    # Init the list containing the result\n",
    "    words: List[str] = []\n",
    "    \n",
    "    # Split the text into words and transform them to lowercase\n",
    "    words_tmp = text.lower().split()\n",
    "    for word in words_tmp:\n",
    "        # Keep only words that are not already in the list \n",
    "        #   and are longer than 3 characters\n",
    "        if word not in words and len(word) > 3:\n",
    "            words.append(word)\n",
    "        \n",
    "    return words"
   ]
  },
  {
   "cell_type": "markdown",
   "metadata": {},
   "source": [
    "The `training()` function creates variables to store the data needed for the classification. The `c_words` variable is a dictionary with the unique words and its number of occurrences\n",
    "in the text (frequency) by category. The `c_categories` variable stores a dictionary of each category and its number of texts. Finally, `c_text` and `c_total_words` store the total count of texts and words, respectively:"
   ]
  },
  {
   "cell_type": "code",
   "execution_count": 7,
   "metadata": {},
   "outputs": [],
   "source": [
    "def training(texts: List[str]) -> Tuple[Dict, Dict, int, int]:\n",
    "    c_words: Dict[str, int] = {}\n",
    "    c_categories: Dict[str, int] = {}\n",
    "    c_texts: int = 0\n",
    "    c_total_words: int = 0\n",
    "    \n",
    "    # Add the classes to the categories\n",
    "    for text in texts:\n",
    "        c_texts += 1\n",
    "        if text[1] not in c_categories:\n",
    "            c_categories[text[1]] = 1\n",
    "        else:\n",
    "            c_categories[text[1]] += 1\n",
    "    \n",
    "    # Add the words with list_words() function\n",
    "    for text in texts:\n",
    "        words = list_words(text[0])\n",
    "        \n",
    "        for word in words:\n",
    "            if word not in c_words:\n",
    "                c_total_words += 1\n",
    "                c_words[word] = {}\n",
    "                for category in c_categories:\n",
    "                    c_words[word][category] = 0\n",
    "            \n",
    "            c_words[word][text[1]] += 1\n",
    "    \n",
    "    return c_words, c_categories, c_texts, c_total_words"
   ]
  },
  {
   "cell_type": "markdown",
   "metadata": {},
   "source": [
    "The `classifier()` function applies the Bayes rule and classifies the subject into one of the\n",
    "two categories, that is, either `spam` or `not spam`. The function also needs the four variables from the `training()` function:"
   ]
  },
  {
   "cell_type": "code",
   "execution_count": 8,
   "metadata": {},
   "outputs": [],
   "source": [
    "def classifier(subject_line: str, c_words: Dict, c_categories: Dict, \n",
    "               c_texts: int, c_total_words: int) -> Tuple[str, float]:\n",
    "    \n",
    "    best_category: str = \"\"\n",
    "    best_prob: float = 0.0\n",
    "    \n",
    "    words = list_words(subject_line)\n",
    "    \n",
    "    for category in c_categories:\n",
    "        # category probability\n",
    "        prob_c: float = c_categories[category] / c_texts\n",
    "        prob_total_c: float = prob_c\n",
    "        \n",
    "        for word in words:\n",
    "            # word probability\n",
    "            if word in c_words:\n",
    "                prob_p: float = c_words[word][category] / c_total_words\n",
    "                # probability P(category|word)\n",
    "                prob_cond: float = prob_p / prob_c\n",
    "                # probability P(word|category)\n",
    "                prob: float = prob_cond * prob_p / prob_c\n",
    "                prob_total_c *= prob\n",
    "        \n",
    "        if prob_total_c > best_prob:\n",
    "            best_category = category\n",
    "            best_prob = prob_total_c\n",
    "        \n",
    "    return best_category, best_prob"
   ]
  },
  {
   "cell_type": "markdown",
   "metadata": {},
   "source": [
    "Main function:"
   ]
  },
  {
   "cell_type": "code",
   "execution_count": 9,
   "metadata": {},
   "outputs": [],
   "source": [
    "with open(\"./training.csv\") as f:\n",
    "    subjects = list(csv.reader(f, delimiter=\",\"))\n",
    "words, categories, texts, total_words = training(subjects)"
   ]
  },
  {
   "cell_type": "code",
   "execution_count": 10,
   "metadata": {},
   "outputs": [
    {
     "name": "stdout",
     "output_type": "stream",
     "text": [
      "Result: ('spam', 1.593317772662467e-11)\n"
     ]
    }
   ],
   "source": [
    "# First Test\n",
    "class_ = classifier(\"Available on Term Life - Free\",\n",
    "                    words, categories, texts, total_words)\n",
    "print(\"Result: {0}\".format(class_))"
   ]
  },
  {
   "cell_type": "code",
   "execution_count": 11,
   "metadata": {},
   "outputs": [
    {
     "name": "stdout",
     "output_type": "stream",
     "text": [
      "Efficiency 10 of 10\n"
     ]
    }
   ],
   "source": [
    "# Second Test\n",
    "with open(\"test.csv\") as f:\n",
    "    correct = 0\n",
    "    tests = csv.reader(f)\n",
    "    for subject in tests:\n",
    "        clase = classifier(subject[0],\n",
    "                           words, categories, texts, total_words)\n",
    "        if clase[0] == subject[1]:\n",
    "            correct += 1\n",
    "    print(\"Efficiency {0} of 10\".format(correct))"
   ]
  },
  {
   "cell_type": "markdown",
   "metadata": {},
   "source": []
  }
 ],
 "metadata": {
  "kernelspec": {
   "display_name": "graphmining",
   "language": "python",
   "name": "python3"
  },
  "language_info": {
   "codemirror_mode": {
    "name": "ipython",
    "version": 3
   },
   "file_extension": ".py",
   "mimetype": "text/x-python",
   "name": "python",
   "nbconvert_exporter": "python",
   "pygments_lexer": "ipython3",
   "version": "3.10.12"
  }
 },
 "nbformat": 4,
 "nbformat_minor": 2
}
