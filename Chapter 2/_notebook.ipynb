{
 "cells": [
  {
   "cell_type": "markdown",
   "metadata": {},
   "source": [
    "## Web scraping with Selenium"
   ]
  },
  {
   "cell_type": "code",
   "execution_count": 1,
   "metadata": {},
   "outputs": [],
   "source": [
    "from selenium import webdriver\n",
    "from selenium.webdriver.chrome.service import Service\n",
    "from selenium.webdriver.common.by import By\n",
    "from selenium.webdriver.support.ui import WebDriverWait\n",
    "from selenium.webdriver.support import expected_conditions as EC\n",
    "from datetime import datetime\n",
    "import time"
   ]
  },
  {
   "cell_type": "code",
   "execution_count": 2,
   "metadata": {},
   "outputs": [
    {
     "name": "stdout",
     "output_type": "stream",
     "text": [
      "2024-09-16 11:12:42pm 2580.96\n",
      "2024-09-16 11:13:42pm 2580.70\n",
      "2024-09-16 11:14:42pm 2580.70\n",
      "2024-09-16 11:15:42pm 2579.97\n",
      "2024-09-16 11:16:42pm 2579.95\n",
      "2024-09-16 11:17:42pm 2579.95\n",
      "2024-09-16 11:18:42pm 2580.03\n",
      "2024-09-16 11:19:42pm 2580.03\n",
      "2024-09-16 11:20:42pm 2580.28\n",
      "2024-09-16 11:21:42pm 2580.77\n"
     ]
    }
   ],
   "source": [
    "service = Service()\n",
    "driver = webdriver.Chrome(service=service)\n",
    "\n",
    "driver.get(\"https://www.gold.org/\")\n",
    "WebDriverWait(driver, 10).until(\n",
    "    EC.presence_of_element_located((By.CLASS_NAME, \"value\"))\n",
    ")\n",
    "\n",
    "with open(\"goldPrice.out\", \"w\") as f:\n",
    "    for _ in range(10):\n",
    "        date_time: str = datetime.now() \\\n",
    "                                 .strftime(\"%Y-%m-%d %I:%M:%S%P\")\n",
    "        gold_price: str = driver \\\n",
    "                            .find_element(By.CLASS_NAME, \"value\") \\\n",
    "                            .text.replace(\",\", \"\")\n",
    "        \n",
    "        # Write to file\n",
    "        f.write(f\"{date_time} {gold_price}\\n\")\n",
    "        # Print to console\n",
    "        print(date_time, gold_price)\n",
    "        \n",
    "        time.sleep(59.9)\n",
    "\n",
    "driver.quit()"
   ]
  }
 ],
 "metadata": {
  "kernelspec": {
   "display_name": "graphmining",
   "language": "python",
   "name": "python3"
  },
  "language_info": {
   "codemirror_mode": {
    "name": "ipython",
    "version": 3
   },
   "file_extension": ".py",
   "mimetype": "text/x-python",
   "name": "python",
   "nbconvert_exporter": "python",
   "pygments_lexer": "ipython3",
   "version": "3.10.12"
  }
 },
 "nbformat": 4,
 "nbformat_minor": 2
}
